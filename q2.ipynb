{
  "nbformat": 4,
  "nbformat_minor": 0,
  "metadata": {
    "kernelspec": {
      "name": "python3",
      "display_name": "Python 3"
    },
    "language_info": {
      "codemirror_mode": {
        "name": "ipython",
        "version": 3
      },
      "file_extension": ".py",
      "mimetype": "text/x-python",
      "name": "python",
      "nbconvert_exporter": "python",
      "pygments_lexer": "ipython3",
      "version": "3.7.3"
    },
    "varInspector": {
      "cols": {
        "lenName": 16,
        "lenType": 16,
        "lenVar": 40
      },
      "kernels_config": {
        "python": {
          "delete_cmd_postfix": "",
          "delete_cmd_prefix": "del ",
          "library": "var_list.py",
          "varRefreshCmd": "print(var_dic_list())"
        },
        "r": {
          "delete_cmd_postfix": ") ",
          "delete_cmd_prefix": "rm(",
          "library": "var_list.r",
          "varRefreshCmd": "cat(var_dic_list()) "
        }
      },
      "types_to_exclude": [
        "module",
        "function",
        "builtin_function_or_method",
        "instance",
        "_Feature"
      ],
      "window_display": false
    },
    "colab": {
      "name": "q2.ipynb",
      "provenance": [],
      "collapsed_sections": []
    },
    "accelerator": "GPU"
  },
  "cells": [
    {
      "cell_type": "code",
      "metadata": {
        "ExecuteTime": {
          "end_time": "2019-11-12T09:03:42.251400Z",
          "start_time": "2019-11-12T09:03:41.983152Z"
        },
        "id": "QIrTlla23GAs",
        "colab_type": "code",
        "colab": {}
      },
      "source": [
        "import os\n",
        "import gzip\n",
        "import pickle\n",
        "import numpy as np\n",
        "import torch\n",
        "import matplotlib.pyplot as plt\n",
        "from sklearn.metrics import confusion_matrix \n",
        "from sklearn.metrics import accuracy_score \n",
        "from sklearn.metrics import classification_report \n",
        "import torchvision\n",
        "import torch.nn as nn\n",
        "from torch.autograd import Variable\n",
        "from torch.nn import Linear, ReLU, CrossEntropyLoss, Sequential, Conv2d, MaxPool2d, Module, Softmax, BatchNorm2d, Dropout"
      ],
      "execution_count": 0,
      "outputs": []
    },
    {
      "cell_type": "code",
      "metadata": {
        "id": "OnWAAGeqD3uC",
        "colab_type": "code",
        "outputId": "e742aa46-1ac0-4ea0-d31c-be97b0463d32",
        "colab": {
          "base_uri": "https://localhost:8080/",
          "height": 122
        }
      },
      "source": [
        "from google.colab import drive\n",
        "drive.mount('/content/gdrive')"
      ],
      "execution_count": 2,
      "outputs": [
        {
          "output_type": "stream",
          "text": [
            "Go to this URL in a browser: https://accounts.google.com/o/oauth2/auth?client_id=947318989803-6bn6qk8qdgf4n4g3pfee6491hc0brc4i.apps.googleusercontent.com&redirect_uri=urn%3Aietf%3Awg%3Aoauth%3A2.0%3Aoob&scope=email%20https%3A%2F%2Fwww.googleapis.com%2Fauth%2Fdocs.test%20https%3A%2F%2Fwww.googleapis.com%2Fauth%2Fdrive%20https%3A%2F%2Fwww.googleapis.com%2Fauth%2Fdrive.photos.readonly%20https%3A%2F%2Fwww.googleapis.com%2Fauth%2Fpeopleapi.readonly&response_type=code\n",
            "\n",
            "Enter your authorization code:\n",
            "··········\n",
            "Mounted at /content/gdrive\n"
          ],
          "name": "stdout"
        }
      ]
    },
    {
      "cell_type": "code",
      "metadata": {
        "ExecuteTime": {
          "end_time": "2019-11-11T18:46:09.028118Z",
          "start_time": "2019-11-11T18:46:09.021030Z"
        },
        "id": "a1XSnFQl3GA1",
        "colab_type": "code",
        "outputId": "d18c922d-0374-4e8f-cbbf-e1e41de067f2",
        "colab": {
          "base_uri": "https://localhost:8080/",
          "height": 255
        }
      },
      "source": [
        "train_data = torchvision.datasets.FashionMNIST(root= './MNIST',train=True,download=True,transform=torchvision.transforms.ToTensor())\n",
        "test_data = torchvision.datasets.FashionMNIST(root= './MNIST',train=False,download=True,transform=torchvision.transforms.ToTensor())"
      ],
      "execution_count": 3,
      "outputs": [
        {
          "output_type": "stream",
          "text": [
            "\r0it [00:00, ?it/s]"
          ],
          "name": "stderr"
        },
        {
          "output_type": "stream",
          "text": [
            "Downloading http://fashion-mnist.s3-website.eu-central-1.amazonaws.com/train-images-idx3-ubyte.gz to ./MNIST/FashionMNIST/raw/train-images-idx3-ubyte.gz\n"
          ],
          "name": "stdout"
        },
        {
          "output_type": "stream",
          "text": [
            "26427392it [00:02, 10322550.35it/s]                             \n"
          ],
          "name": "stderr"
        },
        {
          "output_type": "stream",
          "text": [
            "Extracting ./MNIST/FashionMNIST/raw/train-images-idx3-ubyte.gz to ./MNIST/FashionMNIST/raw\n"
          ],
          "name": "stdout"
        },
        {
          "output_type": "stream",
          "text": [
            "\r0it [00:00, ?it/s]"
          ],
          "name": "stderr"
        },
        {
          "output_type": "stream",
          "text": [
            "Downloading http://fashion-mnist.s3-website.eu-central-1.amazonaws.com/train-labels-idx1-ubyte.gz to ./MNIST/FashionMNIST/raw/train-labels-idx1-ubyte.gz\n"
          ],
          "name": "stdout"
        },
        {
          "output_type": "stream",
          "text": [
            "32768it [00:00, 72224.34it/s]                            \n",
            "0it [00:00, ?it/s]"
          ],
          "name": "stderr"
        },
        {
          "output_type": "stream",
          "text": [
            "Extracting ./MNIST/FashionMNIST/raw/train-labels-idx1-ubyte.gz to ./MNIST/FashionMNIST/raw\n",
            "Downloading http://fashion-mnist.s3-website.eu-central-1.amazonaws.com/t10k-images-idx3-ubyte.gz to ./MNIST/FashionMNIST/raw/t10k-images-idx3-ubyte.gz\n"
          ],
          "name": "stdout"
        },
        {
          "output_type": "stream",
          "text": [
            "4423680it [00:01, 3066661.98it/s]                            \n",
            "0it [00:00, ?it/s]"
          ],
          "name": "stderr"
        },
        {
          "output_type": "stream",
          "text": [
            "Extracting ./MNIST/FashionMNIST/raw/t10k-images-idx3-ubyte.gz to ./MNIST/FashionMNIST/raw\n",
            "Downloading http://fashion-mnist.s3-website.eu-central-1.amazonaws.com/t10k-labels-idx1-ubyte.gz to ./MNIST/FashionMNIST/raw/t10k-labels-idx1-ubyte.gz\n"
          ],
          "name": "stdout"
        },
        {
          "output_type": "stream",
          "text": [
            "8192it [00:00, 25897.60it/s]            "
          ],
          "name": "stderr"
        },
        {
          "output_type": "stream",
          "text": [
            "Extracting ./MNIST/FashionMNIST/raw/t10k-labels-idx1-ubyte.gz to ./MNIST/FashionMNIST/raw\n",
            "Processing...\n",
            "Done!\n"
          ],
          "name": "stdout"
        },
        {
          "output_type": "stream",
          "text": [
            "\n"
          ],
          "name": "stderr"
        }
      ]
    },
    {
      "cell_type": "code",
      "metadata": {
        "id": "NuA_7eWd37dF",
        "colab_type": "code",
        "colab": {}
      },
      "source": [
        "bt_size = 128\n",
        "train_load = torch.utils.data.DataLoader(dataset= train_data,batch_size=bt_size,shuffle= True)\n",
        "test_load = torch.utils.data.DataLoader(dataset= test_data,batch_size=bt_size,shuffle= True)"
      ],
      "execution_count": 0,
      "outputs": []
    },
    {
      "cell_type": "code",
      "metadata": {
        "ExecuteTime": {
          "end_time": "2019-11-11T18:46:09.524188Z",
          "start_time": "2019-11-11T18:46:09.487627Z"
        },
        "id": "F3UnRZhj3GA-",
        "colab_type": "code",
        "colab": {}
      },
      "source": [
        "epochs = 25\n",
        "batch = 128\n",
        "alpha = 0.001\n",
        "temp1 = 0"
      ],
      "execution_count": 0,
      "outputs": []
    },
    {
      "cell_type": "code",
      "metadata": {
        "ExecuteTime": {
          "end_time": "2019-11-11T18:46:09.702198Z",
          "start_time": "2019-11-11T18:46:09.632072Z"
        },
        "id": "DuUlc5ZS3GBE",
        "colab_type": "code",
        "colab": {}
      },
      "source": [
        "class cnn_model(nn.Module):\n",
        "    def __init__(self):\n",
        "        super(cnn_model, self).__init__()\n",
        "        self.layer1 = nn.Sequential(\n",
        "            Conv2d(1, 16, kernel_size=5, padding=2),\n",
        "            BatchNorm2d(16),\n",
        "            ReLU(),\n",
        "            MaxPool2d(2))\n",
        "        self.layer2 = nn.Sequential(\n",
        "            Conv2d(16, 32, kernel_size=5, padding=2),\n",
        "            BatchNorm2d(32),\n",
        "            ReLU(),\n",
        "            MaxPool2d(2))\n",
        "        self.fc= nn.Linear(7*7*32,10)\n",
        "    def forward(self,x):\n",
        "        global temp1\n",
        "        out = self.layer1(x)\n",
        "        out = self.layer2(out)\n",
        "        temp1 = out.clone()\n",
        "        out = out.view(out.size(0),-1)\n",
        "        out = self.fc(out)\n",
        "        return out"
      ],
      "execution_count": 0,
      "outputs": []
    },
    {
      "cell_type": "code",
      "metadata": {
        "ExecuteTime": {
          "end_time": "2019-11-11T18:46:09.803336Z",
          "start_time": "2019-11-11T18:46:09.704593Z"
        },
        "id": "qmq9DnWl3GBG",
        "colab_type": "code",
        "colab": {}
      },
      "source": [
        "cnn = cnn_model()"
      ],
      "execution_count": 0,
      "outputs": []
    },
    {
      "cell_type": "code",
      "metadata": {
        "ExecuteTime": {
          "end_time": "2019-11-11T18:46:09.897288Z",
          "start_time": "2019-11-11T18:46:09.806857Z"
        },
        "id": "v11f7ZGW3GBJ",
        "colab_type": "code",
        "colab": {}
      },
      "source": [
        "cr = nn.CrossEntropyLoss()\n",
        "optimizer = torch.optim.Adam(cnn.parameters(),lr= alpha)"
      ],
      "execution_count": 0,
      "outputs": []
    },
    {
      "cell_type": "code",
      "metadata": {
        "ExecuteTime": {
          "end_time": "2019-11-11T18:49:37.670469Z",
          "start_time": "2019-11-11T18:49:37.632349Z"
        },
        "id": "4BMUAxGu3GBM",
        "colab_type": "code",
        "outputId": "2b5aa562-e731-4c2a-e494-3a3002aae812",
        "colab": {
          "base_uri": "https://localhost:8080/",
          "height": 1000
        }
      },
      "source": [
        "losses = []\n",
        "arr_l = []\n",
        "test_l=[]\n",
        "mat_train = np.zeros((10,1))\n",
        "out_train = np.zeros((10,1))\n",
        "for ep in range(epochs):\n",
        "    l=0\n",
        "    l1 = 0\n",
        "    for i,(images,labels) in enumerate(train_load):\n",
        "        images = Variable(images.float())\n",
        "        labels = Variable(labels)\n",
        "        optimizer.zero_grad()\n",
        "        outputs = cnn(images)\n",
        "        loss = cr(outputs, labels)\n",
        "        l+=loss.data\n",
        "        loss.backward()\n",
        "        optimizer.step()\n",
        "        losses.append(loss.data)\n",
        "        if (i+1)%bt_size==0:\n",
        "            print('Epoch : %d/%d, Iter : %d/%d, Loss : %.4f'%(ep+1,epochs,i+1,len(train_data)//batch,loss.data))\n",
        "    arr_l.append(l)\n",
        "    for i,(images,labels) in enumerate(test_load):\n",
        "        images = Variable(images.float())\n",
        "        labels = Variable(labels)\n",
        "        outputs = cnn(images)\n",
        "        loss = cr(outputs, labels)\n",
        "        l1+=loss.data\n",
        "    test_l.append(l1)"
      ],
      "execution_count": 9,
      "outputs": [
        {
          "output_type": "stream",
          "text": [
            "Epoch : 1/25, Iter : 128/468, Loss : 0.4112\n",
            "Epoch : 1/25, Iter : 256/468, Loss : 0.3131\n",
            "Epoch : 1/25, Iter : 384/468, Loss : 0.2993\n",
            "Epoch : 2/25, Iter : 128/468, Loss : 0.2423\n",
            "Epoch : 2/25, Iter : 256/468, Loss : 0.1963\n",
            "Epoch : 2/25, Iter : 384/468, Loss : 0.2058\n",
            "Epoch : 3/25, Iter : 128/468, Loss : 0.2605\n",
            "Epoch : 3/25, Iter : 256/468, Loss : 0.2201\n",
            "Epoch : 3/25, Iter : 384/468, Loss : 0.3915\n",
            "Epoch : 4/25, Iter : 128/468, Loss : 0.2248\n",
            "Epoch : 4/25, Iter : 256/468, Loss : 0.2503\n",
            "Epoch : 4/25, Iter : 384/468, Loss : 0.1918\n",
            "Epoch : 5/25, Iter : 128/468, Loss : 0.1788\n",
            "Epoch : 5/25, Iter : 256/468, Loss : 0.2603\n",
            "Epoch : 5/25, Iter : 384/468, Loss : 0.2146\n",
            "Epoch : 6/25, Iter : 128/468, Loss : 0.1691\n",
            "Epoch : 6/25, Iter : 256/468, Loss : 0.1642\n",
            "Epoch : 6/25, Iter : 384/468, Loss : 0.2341\n",
            "Epoch : 7/25, Iter : 128/468, Loss : 0.1712\n",
            "Epoch : 7/25, Iter : 256/468, Loss : 0.2444\n",
            "Epoch : 7/25, Iter : 384/468, Loss : 0.1640\n",
            "Epoch : 8/25, Iter : 128/468, Loss : 0.1476\n",
            "Epoch : 8/25, Iter : 256/468, Loss : 0.1186\n",
            "Epoch : 8/25, Iter : 384/468, Loss : 0.1374\n",
            "Epoch : 9/25, Iter : 128/468, Loss : 0.1508\n",
            "Epoch : 9/25, Iter : 256/468, Loss : 0.2109\n",
            "Epoch : 9/25, Iter : 384/468, Loss : 0.1712\n",
            "Epoch : 10/25, Iter : 128/468, Loss : 0.1479\n",
            "Epoch : 10/25, Iter : 256/468, Loss : 0.1052\n",
            "Epoch : 10/25, Iter : 384/468, Loss : 0.1409\n",
            "Epoch : 11/25, Iter : 128/468, Loss : 0.2010\n",
            "Epoch : 11/25, Iter : 256/468, Loss : 0.1188\n",
            "Epoch : 11/25, Iter : 384/468, Loss : 0.1985\n",
            "Epoch : 12/25, Iter : 128/468, Loss : 0.0810\n",
            "Epoch : 12/25, Iter : 256/468, Loss : 0.1614\n",
            "Epoch : 12/25, Iter : 384/468, Loss : 0.2795\n",
            "Epoch : 13/25, Iter : 128/468, Loss : 0.1592\n",
            "Epoch : 13/25, Iter : 256/468, Loss : 0.1231\n",
            "Epoch : 13/25, Iter : 384/468, Loss : 0.0743\n",
            "Epoch : 14/25, Iter : 128/468, Loss : 0.0999\n",
            "Epoch : 14/25, Iter : 256/468, Loss : 0.1341\n",
            "Epoch : 14/25, Iter : 384/468, Loss : 0.1535\n",
            "Epoch : 15/25, Iter : 128/468, Loss : 0.1244\n",
            "Epoch : 15/25, Iter : 256/468, Loss : 0.1027\n",
            "Epoch : 15/25, Iter : 384/468, Loss : 0.1349\n",
            "Epoch : 16/25, Iter : 128/468, Loss : 0.1017\n",
            "Epoch : 16/25, Iter : 256/468, Loss : 0.1104\n",
            "Epoch : 16/25, Iter : 384/468, Loss : 0.1113\n",
            "Epoch : 17/25, Iter : 128/468, Loss : 0.1806\n",
            "Epoch : 17/25, Iter : 256/468, Loss : 0.1248\n",
            "Epoch : 17/25, Iter : 384/468, Loss : 0.0702\n",
            "Epoch : 18/25, Iter : 128/468, Loss : 0.0619\n",
            "Epoch : 18/25, Iter : 256/468, Loss : 0.0671\n",
            "Epoch : 18/25, Iter : 384/468, Loss : 0.0442\n",
            "Epoch : 19/25, Iter : 128/468, Loss : 0.3119\n",
            "Epoch : 19/25, Iter : 256/468, Loss : 0.1445\n",
            "Epoch : 19/25, Iter : 384/468, Loss : 0.0846\n",
            "Epoch : 20/25, Iter : 128/468, Loss : 0.0465\n",
            "Epoch : 20/25, Iter : 256/468, Loss : 0.1045\n",
            "Epoch : 20/25, Iter : 384/468, Loss : 0.2293\n",
            "Epoch : 21/25, Iter : 128/468, Loss : 0.0946\n",
            "Epoch : 21/25, Iter : 256/468, Loss : 0.1035\n",
            "Epoch : 21/25, Iter : 384/468, Loss : 0.0587\n",
            "Epoch : 22/25, Iter : 128/468, Loss : 0.0758\n",
            "Epoch : 22/25, Iter : 256/468, Loss : 0.0553\n",
            "Epoch : 22/25, Iter : 384/468, Loss : 0.1377\n",
            "Epoch : 23/25, Iter : 128/468, Loss : 0.1057\n",
            "Epoch : 23/25, Iter : 256/468, Loss : 0.0943\n",
            "Epoch : 23/25, Iter : 384/468, Loss : 0.0681\n",
            "Epoch : 24/25, Iter : 128/468, Loss : 0.0922\n",
            "Epoch : 24/25, Iter : 256/468, Loss : 0.1344\n",
            "Epoch : 24/25, Iter : 384/468, Loss : 0.0698\n",
            "Epoch : 25/25, Iter : 128/468, Loss : 0.0505\n",
            "Epoch : 25/25, Iter : 256/468, Loss : 0.0736\n",
            "Epoch : 25/25, Iter : 384/468, Loss : 0.1657\n"
          ],
          "name": "stdout"
        }
      ]
    },
    {
      "cell_type": "code",
      "metadata": {
        "id": "26MNnJKayByz",
        "colab_type": "code",
        "colab": {
          "base_uri": "https://localhost:8080/",
          "height": 34
        },
        "outputId": "5df67241-d15a-45b8-9736-328547d45903"
      },
      "source": [
        "correct = 0\n",
        "total = 0\n",
        "pred_train = np.zeros((1,1))\n",
        "lab_train = np.zeros((1,1))\n",
        "for images, labels in train_load:\n",
        "    images = Variable(images.float())\n",
        "    outputs = cnn(images)\n",
        "    _, predicted = torch.max(outputs.data, 1)\n",
        "    pr = predicted.detach().numpy()\n",
        "    lb = labels.detach().numpy()\n",
        "    lab_train = np.vstack((lab_train,lb.reshape((-1,1))))\n",
        "    pred_train = np.vstack((pred_train,pr.reshape((-1,1))))\n",
        "    total += labels.size(0)\n",
        "    correct += (predicted == labels).sum()\n",
        "pred_train = pred_train[1:]\n",
        "lab_train = lab_train[1:]\n",
        "print('Train Accuracy of the model on the 0000 test images: %.4f ' % (float(correct) / float(total)))"
      ],
      "execution_count": 10,
      "outputs": [
        {
          "output_type": "stream",
          "text": [
            "Train Accuracy of the model on the 0000 test images: 0.9777 \n"
          ],
          "name": "stdout"
        }
      ]
    },
    {
      "cell_type": "code",
      "metadata": {
        "id": "XfVImLDT3GBP",
        "colab_type": "code",
        "colab": {
          "base_uri": "https://localhost:8080/",
          "height": 34
        },
        "outputId": "3e0df290-a4d2-42ba-f22d-5d23a712bb4a"
      },
      "source": [
        "cnn.eval()\n",
        "correct = 0\n",
        "total = 0\n",
        "lab_test = np.zeros((1,1))\n",
        "pred_test = np.zeros((1,1))\n",
        "for images, labels in test_load:\n",
        "    images = Variable(images.float())\n",
        "    outputs = cnn(images)\n",
        "    _, predicted = torch.max(outputs.data, 1)\n",
        "    pr = predicted.detach().numpy()\n",
        "    lb = labels.detach().numpy()\n",
        "    lab_test = np.vstack((lab_test,lb.reshape((-1,1))))\n",
        "    pred_test = np.vstack((pred_test,pr.reshape((-1,1))))\n",
        "    total += labels.size(0)\n",
        "    correct += (predicted == labels).sum()\n",
        "pred_test = pred_test[1:]\n",
        "lab_test = lab_test[1:]\n",
        "print('Test Accuracy of the model on the 10000 test images: %.4f ' % (float(correct) / float(total)))"
      ],
      "execution_count": 11,
      "outputs": [
        {
          "output_type": "stream",
          "text": [
            "Test Accuracy of the model on the 10000 test images: 0.9043 \n"
          ],
          "name": "stdout"
        }
      ]
    },
    {
      "cell_type": "code",
      "metadata": {
        "id": "lo2bTAgL1m7c",
        "colab_type": "code",
        "colab": {
          "base_uri": "https://localhost:8080/",
          "height": 357
        },
        "outputId": "9bba9561-250d-4e26-f509-45f473f7be4a"
      },
      "source": [
        "print(confusion_matrix(lab_train, pred_train))\n",
        "print(confusion_matrix(lab_test, pred_test))"
      ],
      "execution_count": 16,
      "outputs": [
        {
          "output_type": "stream",
          "text": [
            "[[5720    1   15   28    2    0  234    0    0    0]\n",
            " [   0 5997    0    3    0    0    0    0    0    0]\n",
            " [  31    0 5612   17  101    0  239    0    0    0]\n",
            " [  16    1    4 5884   26    0   69    0    0    0]\n",
            " [   2    0   75   31 5632    0  260    0    0    0]\n",
            " [   0    0    0    0    0 5999    0    1    0    0]\n",
            " [  71    0   31   24   22    0 5852    0    0    0]\n",
            " [   0    0    0    0    0    0    0 5997    0    3]\n",
            " [   1    0    0    0    0    0    2    0 5997    0]\n",
            " [   0    0    0    0    0    1    0   28    0 5971]]\n",
            "[[821   0  19  17   2   2 136   0   3   0]\n",
            " [  1 986   0   8   2   0   0   0   3   0]\n",
            " [ 15   0 817   8  54   0 104   0   2   0]\n",
            " [ 22   3  10 890  34   0  39   0   2   0]\n",
            " [  3   0  50  20 821   0 104   0   2   0]\n",
            " [  0   0   0   0   0 981   0  16   1   2]\n",
            " [ 89   1  37  22  40   0 807   0   4   0]\n",
            " [  0   0   0   0   0   6   0 979   0  15]\n",
            " [  2   0   0   5   4   2   5   2 979   1]\n",
            " [  0   0   0   0   0   9   1  28   0 962]]\n"
          ],
          "name": "stdout"
        }
      ]
    },
    {
      "cell_type": "code",
      "metadata": {
        "id": "UPU916WOoYh1",
        "colab_type": "code",
        "colab": {}
      },
      "source": [
        "dbfile = open('/content/gdrive/My Drive/ML/Assignment3/q2/cnn_pickle', 'ab')\n",
        "pickle.dump(cnn, dbfile)                      \n",
        "dbfile.close() "
      ],
      "execution_count": 0,
      "outputs": []
    },
    {
      "cell_type": "markdown",
      "metadata": {
        "id": "36kYmGOPSHa7",
        "colab_type": "text"
      },
      "source": [
        "SVM PART"
      ]
    },
    {
      "cell_type": "code",
      "metadata": {
        "id": "TVlPsIWMwFuK",
        "colab_type": "code",
        "colab": {}
      },
      "source": [
        "mat_train = np.zeros((1,10))\n",
        "out_train = np.zeros((1,1))\n",
        "for i,(images,labels) in enumerate(train_load):\n",
        "        images = Variable(images.float())\n",
        "        labels = Variable(labels)\n",
        "        outputs = cnn(images)\n",
        "        t = outputs.tolist()\n",
        "        t = np.array(t)\n",
        "        for i in t:\n",
        "            mat_train = np.vstack([mat_train,i])\n",
        "        for i in labels:\n",
        "            out_train = np.vstack([out_train,i])\n",
        "mat_test = np.zeros((1,10))\n",
        "out_test = np.zeros((1,1))\n",
        "for i,(images,labels) in enumerate(test_load):\n",
        "        images = Variable(images.float())\n",
        "        labels = Variable(labels)\n",
        "        outputs = cnn(images)\n",
        "        t = outputs.tolist()\n",
        "        t = np.array(t)\n",
        "        for i in t:\n",
        "            mat_test = np.vstack([mat_test,i])\n",
        "        for i in labels:\n",
        "            out_test = np.vstack([out_test,i])\n",
        "mat_test = mat_test[1:]\n",
        "mat_train = mat_train[1:]\n",
        "out_train = out_train[1:]\n",
        "out_test = out_test[1:]"
      ],
      "execution_count": 0,
      "outputs": []
    },
    {
      "cell_type": "code",
      "metadata": {
        "id": "_FFDgRx8zYAN",
        "colab_type": "code",
        "colab": {
          "base_uri": "https://localhost:8080/",
          "height": 85
        },
        "outputId": "b2bb305d-24f2-49bf-8437-6880f333c826"
      },
      "source": [
        "out_train = out_train.ravel()\n",
        "out_test = out_test.ravel()\n",
        "print(mat_train.shape)\n",
        "print(out_train.shape)\n",
        "print(mat_test.shape)\n",
        "print(out_test.shape)"
      ],
      "execution_count": 19,
      "outputs": [
        {
          "output_type": "stream",
          "text": [
            "(60000, 10)\n",
            "(60000,)\n",
            "(10000, 10)\n",
            "(10000,)\n"
          ],
          "name": "stdout"
        }
      ]
    },
    {
      "cell_type": "code",
      "metadata": {
        "id": "Lo8_py-j4hqX",
        "colab_type": "code",
        "colab": {
          "base_uri": "https://localhost:8080/",
          "height": 34
        },
        "outputId": "49b9083b-d4dd-4ef0-8e3c-dbc4b71b49b1"
      },
      "source": [
        "print(len(test_load))"
      ],
      "execution_count": 20,
      "outputs": [
        {
          "output_type": "stream",
          "text": [
            "79\n"
          ],
          "name": "stdout"
        }
      ]
    },
    {
      "cell_type": "code",
      "metadata": {
        "id": "R3q2Vi-lr2Oa",
        "colab_type": "code",
        "colab": {}
      },
      "source": [
        "from sklearn.svm import SVC\n",
        "from sklearn.metrics import accuracy_score"
      ],
      "execution_count": 0,
      "outputs": []
    },
    {
      "cell_type": "code",
      "metadata": {
        "id": "025EKyI0snry",
        "colab_type": "code",
        "colab": {
          "base_uri": "https://localhost:8080/",
          "height": 85
        },
        "outputId": "c686d4bf-d477-4694-ff10-e8ff45f51136"
      },
      "source": [
        "clf = SVC(kernel='rbf',gamma='scale',decision_function_shape='ovr')\n",
        "clf.fit(mat_train,out_train)"
      ],
      "execution_count": 22,
      "outputs": [
        {
          "output_type": "execute_result",
          "data": {
            "text/plain": [
              "SVC(C=1.0, cache_size=200, class_weight=None, coef0=0.0,\n",
              "    decision_function_shape='ovr', degree=3, gamma='scale', kernel='rbf',\n",
              "    max_iter=-1, probability=False, random_state=None, shrinking=True,\n",
              "    tol=0.001, verbose=False)"
            ]
          },
          "metadata": {
            "tags": []
          },
          "execution_count": 22
        }
      ]
    },
    {
      "cell_type": "code",
      "metadata": {
        "id": "LcWoDquW0zN8",
        "colab_type": "code",
        "colab": {
          "base_uri": "https://localhost:8080/",
          "height": 34
        },
        "outputId": "bbcd27c7-b348-464b-bfe1-6580c217357c"
      },
      "source": [
        "sc = clf.score(mat_test,out_test)\n",
        "sc1 = clf.score(mat_train,out_train)\n",
        "print(sc,sc1)"
      ],
      "execution_count": 23,
      "outputs": [
        {
          "output_type": "stream",
          "text": [
            "0.9106 0.9852166666666666\n"
          ],
          "name": "stdout"
        }
      ]
    },
    {
      "cell_type": "code",
      "metadata": {
        "id": "xKb4OYKb6cjN",
        "colab_type": "code",
        "colab": {}
      },
      "source": [
        "pred_test = clf.predict(mat_test)\n",
        "pred_train = clf.predict(mat_train)"
      ],
      "execution_count": 0,
      "outputs": []
    },
    {
      "cell_type": "code",
      "metadata": {
        "id": "KrB1H6jeBjES",
        "colab_type": "code",
        "colab": {
          "base_uri": "https://localhost:8080/",
          "height": 357
        },
        "outputId": "b0c187ae-51b6-49ed-a8e3-e2b647ebdfa8"
      },
      "source": [
        "print(confusion_matrix(out_train, pred_train))\n",
        "print(confusion_matrix(out_test, pred_test))"
      ],
      "execution_count": 25,
      "outputs": [
        {
          "output_type": "stream",
          "text": [
            "[[5848    0   26   27    3    0   95    0    1    0]\n",
            " [   0 6000    0    0    0    0    0    0    0    0]\n",
            " [  27    0 5829   16   78    0   50    0    0    0]\n",
            " [  14    2    5 5938   26    0   15    0    0    0]\n",
            " [   2    0   74   28 5842    0   54    0    0    0]\n",
            " [   0    0    0    0    0 5999    0    1    0    0]\n",
            " [ 131    0   89   43   56    0 5681    0    0    0]\n",
            " [   0    0    0    0    0    0    0 5994    0    6]\n",
            " [   0    0    0    0    0    0    1    1 5998    0]\n",
            " [   0    0    1    0    0    0    0   15    0 5984]]\n",
            "[[860   0  22  15   2   0  95   0   6   0]\n",
            " [  0 985   2   7   2   0   0   0   4   0]\n",
            " [ 14   0 857   9  57   0  61   0   2   0]\n",
            " [ 21   3  11 904  32   0  28   0   1   0]\n",
            " [  3   0  56  21 866   0  52   0   2   0]\n",
            " [  0   0   0   0   0 986   0  11   0   3]\n",
            " [114   1  59  24  62   0 735   0   5   0]\n",
            " [  0   0   0   0   0  10   0 971   0  19]\n",
            " [  1   0   0   5   3   3   4   4 979   1]\n",
            " [  0   0   0   0   0   7   1  29   0 963]]\n"
          ],
          "name": "stdout"
        }
      ]
    },
    {
      "cell_type": "code",
      "metadata": {
        "id": "6vMuN8RRCPBR",
        "colab_type": "code",
        "colab": {
          "base_uri": "https://localhost:8080/",
          "height": 51
        },
        "outputId": "08019691-32ae-44ec-b5ae-d6c3248fb84b"
      },
      "source": [
        "print(accuracy_score(out_train, pred_train))\n",
        "print(accuracy_score(out_test, pred_test))"
      ],
      "execution_count": 26,
      "outputs": [
        {
          "output_type": "stream",
          "text": [
            "0.9852166666666666\n",
            "0.9106\n"
          ],
          "name": "stdout"
        }
      ]
    },
    {
      "cell_type": "code",
      "metadata": {
        "id": "CQ389swOLPKb",
        "colab_type": "code",
        "colab": {}
      },
      "source": [
        "arr_loss = [float(i) for i in arr_l]"
      ],
      "execution_count": 0,
      "outputs": []
    },
    {
      "cell_type": "code",
      "metadata": {
        "id": "dUI9XJSZLy1o",
        "colab_type": "code",
        "colab": {
          "base_uri": "https://localhost:8080/",
          "height": 295
        },
        "outputId": "ca73c369-b172-414b-db77-b050bdf3625c"
      },
      "source": [
        "plt.plot(np.arange(epochs),arr_loss)\n",
        "plt.title('Train error vs epochs')\n",
        "plt.xlabel('Iterations')\n",
        "plt.ylabel('Loss')\n",
        "plt.show()"
      ],
      "execution_count": 28,
      "outputs": [
        {
          "output_type": "display_data",
          "data": {
            "image/png": "[encoded data removed]",
            "text/plain": [
              "<Figure size 432x288 with 1 Axes>"
            ]
          },
          "metadata": {
            "tags": []
          }
        }
      ]
    },
    {
      "cell_type": "code",
      "metadata": {
        "id": "MF0BrpCnn-0g",
        "colab_type": "code",
        "colab": {
          "base_uri": "https://localhost:8080/",
          "height": 295
        },
        "outputId": "63dfe74c-a926-46a3-b24d-8ed5bfffdcc2"
      },
      "source": [
        "arr_loss = [1-float(i) for i in test_l]\n",
        "plt.plot(np.arange(epochs),arr_loss)\n",
        "plt.title('Test error vs epochs')\n",
        "plt.xlabel('Iterations')\n",
        "plt.ylabel('Loss')\n",
        "plt.show()"
      ],
      "execution_count": 29,
      "outputs": [
        {
          "output_type": "display_data",
          "data": {
            "image/png": "[encoded data removed]",
            "text/plain": [
              "<Figure size 432x288 with 1 Axes>"
            ]
          },
          "metadata": {
            "tags": []
          }
        }
      ]
    }
  ]
}